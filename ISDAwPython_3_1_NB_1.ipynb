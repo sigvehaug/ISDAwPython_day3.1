{
  "nbformat": 4,
  "nbformat_minor": 0,
  "metadata": {
    "kernelspec": {
      "display_name": "Python 3",
      "language": "python",
      "name": "python3"
    },
    "language_info": {
      "codemirror_mode": {
        "name": "ipython",
        "version": 3
      },
      "file_extension": ".py",
      "mimetype": "text/x-python",
      "name": "python",
      "nbconvert_exporter": "python",
      "pygments_lexer": "ipython3",
      "version": "3.6.10"
    },
    "colab": {
      "name": "ISDAwPython-3.1-NB-1.ipynb",
      "provenance": [],
      "toc_visible": true,
      "include_colab_link": true
    }
  },
  "cells": [
    {
      "cell_type": "markdown",
      "metadata": {
        "id": "view-in-github",
        "colab_type": "text"
      },
      "source": [
        "<a href=\"https://colab.research.google.com/github/sigvehaug/ISDAwPython_day3.1/blob/main/ISDAwPython_3_1_NB_1.ipynb\" target=\"_parent\"><img src=\"https://colab.research.google.com/assets/colab-badge.svg\" alt=\"Open In Colab\"/></a>"
      ]
    },
    {
      "cell_type": "markdown",
      "metadata": {
        "id": "4EjvQpwJdKUT"
      },
      "source": [
        "ISDAwPython-3.1-NB-1, Statistics with Python, 2021-03-08, S. Haug, University of Bern. "
      ]
    },
    {
      "cell_type": "markdown",
      "metadata": {
        "id": "ome17cCJdKUa"
      },
      "source": [
        "\n",
        "# Statistics with Python\n"
      ]
    },
    {
      "cell_type": "markdown",
      "metadata": {
        "id": "lbgBKkuoduzs"
      },
      "source": [
        "## Warm up and discussion (homework)\n"
      ]
    },
    {
      "cell_type": "markdown",
      "metadata": {
        "id": "teUxbdU6eXu3"
      },
      "source": [
        "Let's look at over- and underbinning of histograms. So first take a look at the documentation page of the Scipy.stats module for the normal distribution: \n",
        "\n",
        "https://docs.scipy.org/doc/scipy/reference/generated/scipy.stats.norm.html#scipy.stats.norm\n",
        "\n",
        "and use the norm.rvs() function to generate 5000 random values from the normal distribution."
      ]
    },
    {
      "cell_type": "code",
      "metadata": {
        "id": "Y59ULkTCeo7F"
      },
      "source": [
        "from scipy.stats import norm\n",
        "import matplotlib.pyplot as plt\n",
        "# Generate 5000 random values\n",
        "# Plot the generated data as histogram"
      ],
      "execution_count": 1,
      "outputs": []
    },
    {
      "cell_type": "code",
      "metadata": {
        "id": "O1wc15yCfDMs"
      },
      "source": [
        "# Plot the histogram with different binnings "
      ],
      "execution_count": null,
      "outputs": []
    },
    {
      "cell_type": "markdown",
      "metadata": {
        "id": "3culwpXefOpb"
      },
      "source": [
        "How do you decide on which binning to use?"
      ]
    },
    {
      "cell_type": "markdown",
      "metadata": {
        "id": "OWL0J7zVgM2g"
      },
      "source": [
        "# 1. Descriptive Statistics\n",
        "\n",
        "We divide the statistics field unto descriptive and inferential statistics. With descriptive statistics we describe our data. With inferential statistics we draw conclutions from the data. At the heart of statistics there are random variables and probability density/mass functions."
      ]
    },
    {
      "cell_type": "markdown",
      "metadata": {
        "id": "UqpHakxtdKUh"
      },
      "source": [
        "## 1.0 Random variables and probability density functions (pdf)"
      ]
    },
    {
      "cell_type": "markdown",
      "metadata": {
        "id": "pl0cfeQjPAgV"
      },
      "source": [
        "In practice the measurement process, the data taking, is a **random, or stochastic, process**. The outcome varies from measurement to measurement. There are three (at least) reasons:\n",
        "\n",
        "- Measurements are normally on a sample, not the full population. Samples fluctuate.\n",
        "- Sensors have limited resolution, measurements on the same sample vary within the resolution \n",
        "- According to quantum mechanics, i.e. at smallest distances, measurements are by nature stochastic\n",
        "\n",
        "Our Iris dataset is a sample from 50 flowers in each class. So in each class there are 50 varying measurements for each of the four observables, sepal and petal length and width. This is due to the first and maybe the second reason (quantum mechanics can be neclected at scales larger than molecules). In descriptive statistics the observables are therefore called **random** variables. Let us call one x for examplification.\n",
        "\n",
        "If x can take on any value from a continuous range, we write $f(x;\\theta)dx$ as the probability that the measurement’s outcome lies between x and $x + dx$. The function $f (x; \\theta)$ is called the **probability density function (p.d.f.)**, which may depend on one or more parameters $\\theta$ (for example the Iris class).\n",
        "\n",
        "A random variable can be discrete or continuous. If discrete, then we use $f(x;\\theta)$ to denote the probability to find the value x (in python the term probability mass fundtion, pmf, is then used). In the following the term p.d.f. is often taken to cover both the continuous and discrete cases, although technically the term density should only be used in the continuous case.\n",
        "\n",
        "The p.d.f. is always normalized to **unity** (the number 1), i.e. the integral, i.e. the surface under the curve equals one. Both x and $\\theta$ may have multiple components and are then often written as vectors. If $\\theta$ is unknown, we may wish to estimate its value from a given set of measurements of x; this is a central topic of statistics (see next notebook on parameter estimation and regression).\n",
        "\n",
        "The p.d.f. should be chosen to describe the fluctuation of the random variable in a best possible way. In other words, we should always choose an approprate p.d.f to describe our data. The most used p.d.f. is the normal distribution. Examples of other pdfs can be found in the appendix."
      ]
    },
    {
      "cell_type": "markdown",
      "metadata": {
        "id": "LvcFjoRudKUi"
      },
      "source": [
        "## 1.1 The normal pdf\n",
        "\n",
        "The normal (or Gaussian) probability density function is probably the most used one (informally the \"bell curve\"). It \n",
        "derives its importance in large part from the *central limit theorem*: \"In most situations, when independent random variables are added, their properly normalized sum tends toward a normal distribution (informally a \"bell curve\") even if the original variables themselves are not normally distributed.\" https://en.wikipedia.org/wiki/Central_limit_theorem \n",
        "\n",
        "**Example:** If one flips a coin many times the probability of getting a given number of heads in a series of flips will approach a normal curve, with mean equal to half the total number of flips in each series. (In the limit of an infinite number of flips, it will equal a normal curve.)\n",
        "\n",
        "This means that in many or most cases it is sufficient to know the characteristics of the normal p.d.f. Others can be looked up if needed. Also often unspecified statements like the *error*, or better, the *uncertainty* refer to their meaning on the normal p.d.f.\n",
        "\n",
        "As a formula the normal distribution function looks like (in one dimension)\n",
        "\n",
        "$$ f(x;\\mu,\\sigma) = \\frac{1}{\\sigma \\sqrt{2\\pi}} \\exp(\\frac{-(x-\\mu)^2}{2\\sigma^2}) $$\n",
        "\n",
        "It reads, given the distribution parameters mean $\\mu$ and standard deviation $\\sigma$, x follows this function.\n",
        "\n",
        "### Example 1.1 Plot the normal p.d.f\n",
        "\n",
        "Plot the normal distribution with mean 0 and standard deviation 5 for 400 x values between -20 to 20. Repeat this for two other means and standard deviations. How big is the surface under the curves ?\n",
        "\n",
        "(See also scipy.stat.norm https://docs.scipy.org/doc/scipy-0.16.1/reference/generated/scipy.stats.norm.html)  \n"
      ]
    },
    {
      "cell_type": "code",
      "metadata": {
        "id": "1wxogyGodKUj",
        "colab": {
          "base_uri": "https://localhost:8080/",
          "height": 282
        },
        "outputId": "be6fb240-41dc-48ce-f0e6-e31f3ae646e9"
      },
      "source": [
        "import numpy as np\n",
        "#scipy.stats.norm.pdf(-5.,0,5)\n",
        "#scipy.stats.norm.cdf(0,0,5)\n",
        "# Part of the solution:\n",
        "x = np.linspace(-20,20,400) # 400 bins from -20 to 20\n",
        "plt.plot(x, norm.pdf(x,0,5))"
      ],
      "execution_count": 4,
      "outputs": [
        {
          "output_type": "execute_result",
          "data": {
            "text/plain": [
              "[<matplotlib.lines.Line2D at 0x7f43401eb2d0>]"
            ]
          },
          "metadata": {
            "tags": []
          },
          "execution_count": 4
        },
        {
          "output_type": "display_data",
          "data": {
            "image/png": "[encoded data removed]",
            "text/plain": [
              "<Figure size 432x288 with 1 Axes>"
            ]
          },
          "metadata": {
            "tags": [],
            "needs_background": "light"
          }
        }
      ]
    },
    {
      "cell_type": "markdown",
      "metadata": {
        "id": "u7KkgBZpdKUm"
      },
      "source": [
        "## 1.3 The PDF of your data - histogram\n",
        "\n",
        "Histograms can be used as approximate pdfs of the data. Let's look at the histograms of the Iris data.\n"
      ]
    },
    {
      "cell_type": "code",
      "metadata": {
        "id": "1tVXLQabdKUg",
        "colab": {
          "base_uri": "https://localhost:8080/",
          "height": 204
        },
        "outputId": "ab29e127-3333-4393-d50b-3320ca0cd4af"
      },
      "source": [
        "# Load the Iris dataset into a dataframe an study the dataframe content\n",
        "import pandas as pd\n",
        "url = 'https://www.openml.org/data/get_csv/61/dataset_61_iris.arff'\n",
        "dataframe = pd.read_csv(url) #,names=['slength','swidth','plength','pwidth','name'])\n",
        "dataframe.head()\n",
        "#dataframe[48:52]\n",
        "#dataframe[98:102]\n"
      ],
      "execution_count": 6,
      "outputs": [
        {
          "output_type": "execute_result",
          "data": {
            "text/html": [
              "<div>\n",
              "<style scoped>\n",
              "    .dataframe tbody tr th:only-of-type {\n",
              "        vertical-align: middle;\n",
              "    }\n",
              "\n",
              "    .dataframe tbody tr th {\n",
              "        vertical-align: top;\n",
              "    }\n",
              "\n",
              "    .dataframe thead th {\n",
              "        text-align: right;\n",
              "    }\n",
              "</style>\n",
              "<table border=\"1\" class=\"dataframe\">\n",
              "  <thead>\n",
              "    <tr style=\"text-align: right;\">\n",
              "      <th></th>\n",
              "      <th>sepallength</th>\n",
              "      <th>sepalwidth</th>\n",
              "      <th>petallength</th>\n",
              "      <th>petalwidth</th>\n",
              "      <th>class</th>\n",
              "    </tr>\n",
              "  </thead>\n",
              "  <tbody>\n",
              "    <tr>\n",
              "      <th>0</th>\n",
              "      <td>5.1</td>\n",
              "      <td>3.5</td>\n",
              "      <td>1.4</td>\n",
              "      <td>0.2</td>\n",
              "      <td>Iris-setosa</td>\n",
              "    </tr>\n",
              "    <tr>\n",
              "      <th>1</th>\n",
              "      <td>4.9</td>\n",
              "      <td>3.0</td>\n",
              "      <td>1.4</td>\n",
              "      <td>0.2</td>\n",
              "      <td>Iris-setosa</td>\n",
              "    </tr>\n",
              "    <tr>\n",
              "      <th>2</th>\n",
              "      <td>4.7</td>\n",
              "      <td>3.2</td>\n",
              "      <td>1.3</td>\n",
              "      <td>0.2</td>\n",
              "      <td>Iris-setosa</td>\n",
              "    </tr>\n",
              "    <tr>\n",
              "      <th>3</th>\n",
              "      <td>4.6</td>\n",
              "      <td>3.1</td>\n",
              "      <td>1.5</td>\n",
              "      <td>0.2</td>\n",
              "      <td>Iris-setosa</td>\n",
              "    </tr>\n",
              "    <tr>\n",
              "      <th>4</th>\n",
              "      <td>5.0</td>\n",
              "      <td>3.6</td>\n",
              "      <td>1.4</td>\n",
              "      <td>0.2</td>\n",
              "      <td>Iris-setosa</td>\n",
              "    </tr>\n",
              "  </tbody>\n",
              "</table>\n",
              "</div>"
            ],
            "text/plain": [
              "   sepallength  sepalwidth  petallength  petalwidth        class\n",
              "0          5.1         3.5          1.4         0.2  Iris-setosa\n",
              "1          4.9         3.0          1.4         0.2  Iris-setosa\n",
              "2          4.7         3.2          1.3         0.2  Iris-setosa\n",
              "3          4.6         3.1          1.5         0.2  Iris-setosa\n",
              "4          5.0         3.6          1.4         0.2  Iris-setosa"
            ]
          },
          "metadata": {
            "tags": []
          },
          "execution_count": 6
        }
      ]
    },
    {
      "cell_type": "code",
      "metadata": {
        "scrolled": true,
        "id": "jtznAZBZdKUg",
        "colab": {
          "base_uri": "https://localhost:8080/"
        },
        "outputId": "a5a06ca5-5316-474f-8cbb-dfe762ff8961"
      },
      "source": [
        "dataframe.info()"
      ],
      "execution_count": 7,
      "outputs": [
        {
          "output_type": "stream",
          "text": [
            "<class 'pandas.core.frame.DataFrame'>\n",
            "RangeIndex: 150 entries, 0 to 149\n",
            "Data columns (total 5 columns):\n",
            " #   Column       Non-Null Count  Dtype  \n",
            "---  ------       --------------  -----  \n",
            " 0   sepallength  150 non-null    float64\n",
            " 1   sepalwidth   150 non-null    float64\n",
            " 2   petallength  150 non-null    float64\n",
            " 3   petalwidth   150 non-null    float64\n",
            " 4   class        150 non-null    object \n",
            "dtypes: float64(4), object(1)\n",
            "memory usage: 6.0+ KB\n"
          ],
          "name": "stdout"
        }
      ]
    },
    {
      "cell_type": "code",
      "metadata": {
        "id": "F0yqLrBFdKUy",
        "colab": {
          "base_uri": "https://localhost:8080/",
          "height": 312
        },
        "outputId": "04bc49db-7a48-474c-c69a-b54ad8e00d4d"
      },
      "source": [
        "df_setosa = dataframe[dataframe['class']=='Iris-setosa']\n",
        "df_setosa['sepallength'].plot(kind=\"hist\",bins=5,fill=False,histtype='step',title='Iris Setosa', label=\"length\")\n",
        "# Test various number of bins in the next line\n",
        "mybins=np.linspace(2,5,10)\n",
        "ax = df_setosa['sepalwidth'].plot.hist(bins=mybins,fill=False,histtype='step', label=\"width\")\n",
        "ax.set_xlabel('Sepal length and width / cm')\n",
        "ax.set_ylabel('Frequency')\n",
        "plt.legend()"
      ],
      "execution_count": 8,
      "outputs": [
        {
          "output_type": "execute_result",
          "data": {
            "text/plain": [
              "<matplotlib.legend.Legend at 0x7f433f8182d0>"
            ]
          },
          "metadata": {
            "tags": []
          },
          "execution_count": 8
        },
        {
          "output_type": "display_data",
          "data": {
            "image/png": "[encoded data removed]",
            "text/plain": [
              "<Figure size 432x288 with 1 Axes>"
            ]
          },
          "metadata": {
            "tags": [],
            "needs_background": "light"
          }
        }
      ]
    },
    {
      "cell_type": "markdown",
      "metadata": {
        "id": "eo8sm-kxUK0E"
      },
      "source": [
        "It is hard to see by eye if these data are normally distributed. There are statistical tests checking this better. More on that later."
      ]
    },
    {
      "cell_type": "markdown",
      "metadata": {
        "id": "WLOJ4il1dKUn"
      },
      "source": [
        "## 1.4 p-Value, Significance and Confidence Level\n",
        "\n",
        "The p-value of a (measured) value is the surface (integral) under the pdf above that value, i.e. the probability of getting such a value or higher. Thus, the p-value is a measure for significance. Most implementations of statistical tests return the p-value and the value of the test statistic."
      ]
    },
    {
      "cell_type": "code",
      "metadata": {
        "colab": {
          "base_uri": "https://localhost:8080/"
        },
        "id": "yZNe1XCRQHkP",
        "outputId": "31e11f23-d844-425b-9ce6-0b243d697712"
      },
      "source": [
        "# For pdfs in scipy.stats, we can calculate p-values with cdf \n",
        "# The p-value of 3 on a normal pdf with mean of 2 and SD of 5\n",
        "print('p-value = %1.2f'% (1-norm.cdf(3,2,5)))"
      ],
      "execution_count": 10,
      "outputs": [
        {
          "output_type": "stream",
          "text": [
            "p-value = 0.42\n"
          ],
          "name": "stdout"
        }
      ]
    },
    {
      "cell_type": "code",
      "metadata": {
        "colab": {
          "base_uri": "https://localhost:8080/"
        },
        "id": "k4-Bj7yMRbeO",
        "outputId": "358415a4-97cf-4d6d-a8a0-3497dc31691c"
      },
      "source": [
        "# On our data set we can calculate the p-value manually\n",
        "# The p-value of measuring a setosa slength longer than 5.2\n",
        "df_above=df_setosa[df_setosa['sepallength']>5.2]\n",
        "p = df_above['sepallength'].sum()/df_setosa.sum()[0]\n",
        "print('p-value = %1.2f'% p)"
      ],
      "execution_count": 13,
      "outputs": [
        {
          "output_type": "stream",
          "text": [
            "p-value = 0.24\n"
          ],
          "name": "stdout"
        }
      ]
    },
    {
      "cell_type": "code",
      "metadata": {
        "id": "VSiYBVhrdKUd",
        "outputId": "02e21f05-cace-41ff-e1e7-2d8b94164016"
      },
      "source": [
        "# Load the needed python libraries by executing this python code (press ctrl enter)\n",
        "import numpy as np\n",
        "import scipy.stats\n",
        "import matplotlib.pyplot as plt\n",
        "print('Congrats, you just loaded numpy, scipy.stats and mathplot.pyplot loaded !')"
      ],
      "execution_count": null,
      "outputs": [
        {
          "output_type": "stream",
          "text": [
            "Congrats, you just loaded numpy, scipy.stats and mathplot.pyplot loaded !\n"
          ],
          "name": "stdout"
        }
      ]
    },
    {
      "cell_type": "code",
      "metadata": {
        "id": "hc4knCxKdKUh"
      },
      "source": [
        ""
      ],
      "execution_count": null,
      "outputs": []
    },
    {
      "cell_type": "markdown",
      "metadata": {
        "id": "0J94oO0ndKUu"
      },
      "source": [
        "## 1.5 Mean, variance, standard deviation, skew, kurtosis\n",
        "\n",
        "The $n^{th}$ moment of a random variable x with p.d.f. $f(x)$ is\n",
        "$$ \\alpha_n \\equiv E[x^n] = \\int_{-\\infty}^{\\infty} x^nf(x)dx   $$\n",
        "In the discrete case for $n=1$ this integral becomes the sum known as the arithemtic mean:\n",
        "$$ \\mu = \\frac{1}{n} \\sum_{i=1}^n x_i$$\n",
        "\n",
        "<!--\n",
        "and the $n^{th}$ central moment of x (or moment about the mean, $α_1$) is\n",
        "\n",
        "$$ m_n \\equiv E[(x-\\alpha_1)^n] = \\int_{-\\infty}^{\\infty} (x-\\alpha_1)^nf(x)dx   $$\n",
        "-->\n",
        "\n",
        "The most commonly used moments are the **mean $\\mu$ (or expectation value) and variance $\\sigma^2$**:\n",
        "\n",
        "$$\\mu \\equiv \\alpha_1 $$\n",
        "$$\\sigma^2 \\equiv V[x] \\equiv \\int_{-\\infty}^{\\infty} (x-\\mu)^2 f(x)dx = ... = \\alpha_2 - \\mu^2 $$\n",
        "\n",
        "The mean is the location or the “center of mass” of the p.d.f., and the variance is a measure of the square of its width. It is often convenient to use the **standard deviation (SD)** of $x$, $\\sigma$, defined as the square root of the variance. In the discrete case the variance becomes\n",
        "$$ \\sigma^2 = \\frac{1}{n} \\sum_{i=1}^n (x_i - \\mu)^2$$\n",
        "\n",
        "For the normal p.d.f the standard deviation is its width. \n",
        "\n",
        "Based on higher moments other distribution descriptors are formed. **Skewness** and **Kurtosis** you may encounter. The skewness is a number indicating the deviation from a symmetric form. Kurtosis is a number indicating if the tails of the distribution is larger or smaller then the tails of the normal distribution.\n"
      ]
    },
    {
      "cell_type": "markdown",
      "metadata": {
        "id": "Sd5j_3lfYKF7"
      },
      "source": [
        ""
      ]
    },
    {
      "cell_type": "code",
      "metadata": {
        "colab": {
          "base_uri": "https://localhost:8080/"
        },
        "id": "hXxW3QldYMch",
        "outputId": "0e8b96e3-b263-4b78-90d4-04ce79dba679"
      },
      "source": [
        "# Get the descriptive statistics from a pdf in scipy.stats\n",
        "mean, variance, skewness, kurtosis = norm.stats(0,4,moments='mvsk')\n",
        "print(mean, variance, skewness, kurtosis)"
      ],
      "execution_count": 15,
      "outputs": [
        {
          "output_type": "stream",
          "text": [
            "0.0 16.0 0.0 0.0\n"
          ],
          "name": "stdout"
        }
      ]
    },
    {
      "cell_type": "code",
      "metadata": {
        "colab": {
          "base_uri": "https://localhost:8080/",
          "height": 282
        },
        "id": "u_VvkDuaYe0z",
        "outputId": "993655d9-c723-4b38-b324-0ef05fe39122"
      },
      "source": [
        "x = np.linspace(-20,20,400)\n",
        "sigma=variance**0.5\n",
        "plt.plot(x,norm.pdf(x,mean,sigma))\n",
        "plt.axvline(x=mean, linewidth=2, color = 'k',label=\"Mean\") # Plot the mean as a vertical line\n",
        "plt.axvline(x=mean-sigma, linewidth=2, color = 'r', label=\"Sigma (standard deviation)\")\n",
        "plt.axvline(x=mean+sigma, linewidth=2, color = 'r')\n",
        "plt.legend(loc='upper right')"
      ],
      "execution_count": 17,
      "outputs": [
        {
          "output_type": "execute_result",
          "data": {
            "text/plain": [
              "<matplotlib.legend.Legend at 0x7f433eaaa550>"
            ]
          },
          "metadata": {
            "tags": []
          },
          "execution_count": 17
        },
        {
          "output_type": "display_data",
          "data": {
            "image/png": "[encoded data removed]",
            "text/plain": [
              "<Figure size 432x288 with 1 Axes>"
            ]
          },
          "metadata": {
            "tags": [],
            "needs_background": "light"
          }
        }
      ]
    },
    {
      "cell_type": "code",
      "metadata": {
        "colab": {
          "base_uri": "https://localhost:8080/",
          "height": 297
        },
        "id": "YQwudiIsYtJJ",
        "outputId": "7ad8871f-92c3-4597-db15-5f33e46ae754"
      },
      "source": [
        "df_setosa.describe()"
      ],
      "execution_count": 18,
      "outputs": [
        {
          "output_type": "execute_result",
          "data": {
            "text/html": [
              "<div>\n",
              "<style scoped>\n",
              "    .dataframe tbody tr th:only-of-type {\n",
              "        vertical-align: middle;\n",
              "    }\n",
              "\n",
              "    .dataframe tbody tr th {\n",
              "        vertical-align: top;\n",
              "    }\n",
              "\n",
              "    .dataframe thead th {\n",
              "        text-align: right;\n",
              "    }\n",
              "</style>\n",
              "<table border=\"1\" class=\"dataframe\">\n",
              "  <thead>\n",
              "    <tr style=\"text-align: right;\">\n",
              "      <th></th>\n",
              "      <th>sepallength</th>\n",
              "      <th>sepalwidth</th>\n",
              "      <th>petallength</th>\n",
              "      <th>petalwidth</th>\n",
              "    </tr>\n",
              "  </thead>\n",
              "  <tbody>\n",
              "    <tr>\n",
              "      <th>count</th>\n",
              "      <td>50.00000</td>\n",
              "      <td>50.000000</td>\n",
              "      <td>50.000000</td>\n",
              "      <td>50.00000</td>\n",
              "    </tr>\n",
              "    <tr>\n",
              "      <th>mean</th>\n",
              "      <td>5.00600</td>\n",
              "      <td>3.418000</td>\n",
              "      <td>1.464000</td>\n",
              "      <td>0.24400</td>\n",
              "    </tr>\n",
              "    <tr>\n",
              "      <th>std</th>\n",
              "      <td>0.35249</td>\n",
              "      <td>0.381024</td>\n",
              "      <td>0.173511</td>\n",
              "      <td>0.10721</td>\n",
              "    </tr>\n",
              "    <tr>\n",
              "      <th>min</th>\n",
              "      <td>4.30000</td>\n",
              "      <td>2.300000</td>\n",
              "      <td>1.000000</td>\n",
              "      <td>0.10000</td>\n",
              "    </tr>\n",
              "    <tr>\n",
              "      <th>25%</th>\n",
              "      <td>4.80000</td>\n",
              "      <td>3.125000</td>\n",
              "      <td>1.400000</td>\n",
              "      <td>0.20000</td>\n",
              "    </tr>\n",
              "    <tr>\n",
              "      <th>50%</th>\n",
              "      <td>5.00000</td>\n",
              "      <td>3.400000</td>\n",
              "      <td>1.500000</td>\n",
              "      <td>0.20000</td>\n",
              "    </tr>\n",
              "    <tr>\n",
              "      <th>75%</th>\n",
              "      <td>5.20000</td>\n",
              "      <td>3.675000</td>\n",
              "      <td>1.575000</td>\n",
              "      <td>0.30000</td>\n",
              "    </tr>\n",
              "    <tr>\n",
              "      <th>max</th>\n",
              "      <td>5.80000</td>\n",
              "      <td>4.400000</td>\n",
              "      <td>1.900000</td>\n",
              "      <td>0.60000</td>\n",
              "    </tr>\n",
              "  </tbody>\n",
              "</table>\n",
              "</div>"
            ],
            "text/plain": [
              "       sepallength  sepalwidth  petallength  petalwidth\n",
              "count     50.00000   50.000000    50.000000    50.00000\n",
              "mean       5.00600    3.418000     1.464000     0.24400\n",
              "std        0.35249    0.381024     0.173511     0.10721\n",
              "min        4.30000    2.300000     1.000000     0.10000\n",
              "25%        4.80000    3.125000     1.400000     0.20000\n",
              "50%        5.00000    3.400000     1.500000     0.20000\n",
              "75%        5.20000    3.675000     1.575000     0.30000\n",
              "max        5.80000    4.400000     1.900000     0.60000"
            ]
          },
          "metadata": {
            "tags": []
          },
          "execution_count": 18
        }
      ]
    },
    {
      "cell_type": "markdown",
      "metadata": {
        "id": "dhcvnf4jdKUv"
      },
      "source": [
        "## 1.6 Standard Error\n",
        "\n",
        "The standard error or standard error mean is defined:\n",
        "$$SE = \\frac{\\sigma}{\\sqrt{n}}$$\n",
        "where $\\sigma$ is the sample mean and $n$ is the sample size. If you report SE and not SD, be sure you know the difference and be clear on what you report. "
      ]
    },
    {
      "cell_type": "code",
      "metadata": {
        "colab": {
          "base_uri": "https://localhost:8080/"
        },
        "id": "a7xVg4-DZOJP",
        "outputId": "48fd5ce3-bc69-4a34-cdfb-92a66796492f"
      },
      "source": [
        "df_setosa.sem()"
      ],
      "execution_count": 19,
      "outputs": [
        {
          "output_type": "execute_result",
          "data": {
            "text/plain": [
              "sepallength    0.049850\n",
              "sepalwidth     0.053885\n",
              "petallength    0.024538\n",
              "petalwidth     0.015162\n",
              "dtype: float64"
            ]
          },
          "metadata": {
            "tags": []
          },
          "execution_count": 19
        }
      ]
    },
    {
      "cell_type": "markdown",
      "metadata": {
        "id": "Z_KPqXASdKUu"
      },
      "source": [
        "## 1.7 Quantiles, median and mode\n",
        "\n",
        "The **quantile $x_{\\alpha}$** is the value of the random variable x at which $\\alpha$% of the area is below x. An important special case is the **median, $x_{med} \\equiv x_{50}$**. At the median half the area lies above and half lies below. \n",
        "For the normal p.d.f. the median equals the mean. The most probable value of a distribution is called **mode**. \n",
        "\n",
        "Special quantiles are the quartiles and percentiles. The first quartile is the $x_{25}$, the second the $x_{50}$ etc. Percentiles are for example $x_{13}$ etc. \n",
        "\n",
        "<!--\n",
        "Any odd moment about the mean is a measure of the **skewness** of the p.d.f. The simplest of these is the dimensionless coefficient of skewness $\\gamma_1 = m_33/\\sigma^3$.\n",
        "\n",
        "The fourth central moment $m_4$ provides a convenient measure of the tails of a distribution. For the Gaussian distribution, one has $m_4 = 3\\sigma^4$. The **kurtosis** is defined as $\\gamma_2 = m_4/\\sigma^4 − 3$, i.e., it is zero for a Gaussian, positive for a leptokurtic distribution with longer tails, and negative for a platykurtic distribution with tails that die off more quickly than those of a Gaussian.\n",
        "\n",
        "The **quantile $x_{\\alpha}$** is the value of the random variable x at which the cumulative distribution is equal to $\\alpha$. That is, the quantile is the inverse of the cumulative distribution function, i.e., $x_{alpha} = F^{−1}(\\alpha)$. An important special case is the **median, $x_{med}$**, defined by $F(x_{med}) = 1/2$, i.e., half the probability lies above and half lies below $x_{med}$. (More rigorously, $x_{med}$ is a median if $P(x \\geq x_{med}) \\geq 1/2$ and $P(x \\leq x_{med}) \\geq 1/2$. If only one value exists, it is called ‘the median.’)\n",
        "\n",
        "Under a monotonic change of variable $x \\rightarrow y(x)$, the quantiles of a distribution (and hence also the median) obey $y_{\\alpha} = y(x_{\\alpha})$. In general the expectation value and **mode** (most probable value) of a distribution do not, however, transform in this way.\n",
        "\n",
        "Let us look at median and quantile$_68$ of the normal pdf: \n",
        "-->"
      ]
    },
    {
      "cell_type": "code",
      "metadata": {
        "id": "mEXXg2DbahK6"
      },
      "source": [
        "x = np.linspace(0,20,20)\n",
        "print(norm.ppf(0.5,10,3)) # Median = second quantile = x_{50} percentile\n",
        "print(norm.ppf(0.25,10,3)) # \n",
        "plt.plot(x,norm.pdf(x,10,3))"
      ],
      "execution_count": null,
      "outputs": []
    },
    {
      "cell_type": "markdown",
      "metadata": {
        "id": "eW6ny3DwdKUz"
      },
      "source": [
        "## 1.8 Box and scatter plots\n",
        "\n",
        "Often box plots are used to visually inspect differences between categories. Let's display the setal length of the three Iris categories with bx plots (https://pandas.pydata.org/pandas-docs/stable/reference/api/pandas.DataFrame.boxplot.html):"
      ]
    },
    {
      "cell_type": "code",
      "metadata": {
        "colab": {
          "base_uri": "https://localhost:8080/",
          "height": 318
        },
        "id": "5unmWh2fdWTC",
        "outputId": "a35ad636-73cb-4924-a063-7f7bffe6608c"
      },
      "source": [
        "dataframe.boxplot(column=['sepallength'],by='class')"
      ],
      "execution_count": 20,
      "outputs": [
        {
          "output_type": "execute_result",
          "data": {
            "text/plain": [
              "<matplotlib.axes._subplots.AxesSubplot at 0x7f433ead7650>"
            ]
          },
          "metadata": {
            "tags": []
          },
          "execution_count": 20
        },
        {
          "output_type": "display_data",
          "data": {
            "image/png": "[encoded data removed]",
            "text/plain": [
              "<Figure size 432x288 with 1 Axes>"
            ]
          },
          "metadata": {
            "tags": [],
            "needs_background": "light"
          }
        }
      ]
    },
    {
      "cell_type": "markdown",
      "metadata": {
        "id": "bv2uyf7ydpjq"
      },
      "source": [
        "A visual inspection of correlations between columns is often useful. Scatter plots provide this."
      ]
    },
    {
      "cell_type": "code",
      "metadata": {
        "colab": {
          "base_uri": "https://localhost:8080/",
          "height": 396
        },
        "id": "sKzgV4PYdZh9",
        "outputId": "4c8bd706-9ed0-4c90-963e-d9c5d2e3943b"
      },
      "source": [
        "# https://pandas.pydata.org/pandas-docs/stable/generated/pandas.plotting.scatter_matrix.html\n",
        "from pandas.plotting import scatter_matrix\n",
        "df = dataframe\n",
        "scatter_matrix(df[df['class']=='Iris-setosa'], alpha=0.2, figsize=(6, 6), diagonal='hist')\n",
        "plt.show()"
      ],
      "execution_count": 21,
      "outputs": [
        {
          "output_type": "display_data",
          "data": {
            "image/png": "[encoded data removed]",
            "text/plain": [
              "<Figure size 432x432 with 16 Axes>"
            ]
          },
          "metadata": {
            "tags": [],
            "needs_background": "light"
          }
        }
      ]
    },
    {
      "cell_type": "code",
      "metadata": {
        "colab": {
          "base_uri": "https://localhost:8080/",
          "height": 269
        },
        "id": "-K_IMOa1d3I-",
        "outputId": "60f8d155-2f48-40ad-8ef3-f541c4361b46"
      },
      "source": [
        "import seaborn as sn\n",
        "sn.heatmap(df.corr(), annot=True)\n",
        "plt.show()"
      ],
      "execution_count": 22,
      "outputs": [
        {
          "output_type": "display_data",
          "data": {
            "image/png": "[encoded data removed]",
            "text/plain": [
              "<Figure size 432x288 with 2 Axes>"
            ]
          },
          "metadata": {
            "tags": [],
            "needs_background": "light"
          }
        }
      ]
    },
    {
      "cell_type": "markdown",
      "metadata": {
        "id": "ETxa8KgodKUt"
      },
      "source": [
        "## 1.9 Uncertainties\n",
        "\n",
        "All data have uncertainties. These should always be communicated when showing scientific numbers or plots. We distinguish between two types.\n",
        "\n",
        "- Statistical uncertainties \n",
        "    - Fluctuations, can be made smaller by taking more data, i.e. get more statistics\n",
        "- Systematic uncertainties \n",
        "    - Shift of data in one direction due to some \"mistake\" in the measurement, e.g. wrongly calibrated instrument showing all measured values systematically higher as they really are. Or for instance uncertainty due to the choice of methods and tools\n",
        "    \n",
        "The statistics tools can mostly handle the statistical uncertainties. There is no mathematical recipe for dealing with systematical uncertainties. You have to think through your experiment and try to estimate the influence of everything that can go wrong.\n",
        "\n",
        "When uncertainties are stated on numbers or in graphs as error bars or error bands they generally show one standard deviation. If the data are well described by a normal p.d.f, the interpretation of one standard deviation is clear: if the measurement is repeated many times, 32% (or about 1/3 of the measurements) **should** be outside the error bars. \n"
      ]
    },
    {
      "cell_type": "code",
      "metadata": {
        "id": "AoeTElgmdKUz",
        "outputId": "c68637c7-48b9-4e3c-ac60-a0f0e2cc28a5"
      },
      "source": [
        "n = scipy.stats.norm.rvs(3.418,0.318,100)\n",
        "# Draw a histogram which is not normalised\n",
        "entries1, edges, patches = plt.hist(n, bins=10, histtype='step')\n",
        "# Draw a histogram which IS normed\n",
        "entries2, edges, patches = plt.hist(n, bins=10, histtype='step',density=True)\n",
        "# Close plt so that the previous histograms are not shown\n",
        "plt.close() \n",
        "# Calculate the poisson standard deviation and scale down to second histogram\n",
        "errors = np.sqrt(entries1) * entries2/entries1\n",
        "# calculate bin centers\n",
        "bin_centers = 0.5 * (edges[:-1] + edges[1:])\n",
        "# draw errobars, use the sqrt error.\n",
        "plt.errorbar(bin_centers, entries2, yerr=errors, fmt='r.')\n",
        "# Draw a normal distribution\n",
        "x = np.linspace(2.4,4.2,100)\n",
        "plt.plot(x,scipy.stats.norm.pdf(x,3.418,0.318))\n",
        "plt.show()"
      ],
      "execution_count": null,
      "outputs": [
        {
          "output_type": "display_data",
          "data": {
            "image/png": "[encoded data removed]",
            "text/plain": [
              "<Figure size 432x288 with 1 Axes>"
            ]
          },
          "metadata": {
            "tags": [],
            "needs_background": "light"
          }
        }
      ]
    },
    {
      "cell_type": "markdown",
      "metadata": {
        "id": "G_NqjEomdKUt"
      },
      "source": [
        "## 1.10 Recapitulation\n",
        "\n",
        "- Collected data almost always contain random variables. Why?\n",
        "- Random variables can be modelled with PDFs.\n",
        "- There are many PDFs (infinite). What is the most important PDF?\n",
        "- Can you give by heart p-values for different standard deviations on the normal PDF?\n",
        "- Can you plot the descriptive stats of a dataset and histograms and scatter plots?\n"
      ]
    },
    {
      "cell_type": "code",
      "metadata": {
        "id": "ioBST8n8dKUm",
        "outputId": "5ffecda5-368d-40a7-9b67-6f8d8480173d"
      },
      "source": [
        "df_setosa = dataframe[dataframe['class']=='Iris-setosa']\n",
        "df_setosa['sepallength'].plot(kind=\"hist\",fill=False,histtype='step',title='Iris Setosa', label=\"length\")\n",
        "ax = df_setosa['sepalwidth'].plot(kind=\"hist\",fill=False,histtype='step', label=\"width\")\n",
        "ax.set_xlabel('Sepal length/width [cm]')\n",
        "ax.set_ylabel('Frequency')\n",
        "plt.legend()"
      ],
      "execution_count": null,
      "outputs": [
        {
          "output_type": "execute_result",
          "data": {
            "text/plain": [
              "<matplotlib.legend.Legend at 0x1a25b4b198>"
            ]
          },
          "metadata": {
            "tags": []
          },
          "execution_count": 44
        },
        {
          "output_type": "display_data",
          "data": {
            "image/png": "[encoded data removed]",
            "text/plain": [
              "<Figure size 432x288 with 1 Axes>"
            ]
          },
          "metadata": {
            "tags": [],
            "needs_background": "light"
          }
        }
      ]
    },
    {
      "cell_type": "markdown",
      "metadata": {
        "id": "XfC99sWpe_ZY"
      },
      "source": [
        "## 1.11 Exercise\n",
        "\n",
        "Now use the Iris virginica class.\n",
        "\n",
        "- Print the descriptive statistics\n",
        "- Plot the histograms and scatterplots\n",
        "\n",
        "Now do the same with the last class in the Iris dataset. "
      ]
    },
    {
      "cell_type": "code",
      "metadata": {
        "id": "MoomvzX6dKUl",
        "outputId": "09e42610-ff78-450d-ff54-0d0df8113555"
      },
      "source": [
        "x = np.arange(-1,42)\n",
        "plt.plot(x,scipy.stats.binom.pmf(x,40,0.05),drawstyle='steps-mid')\n",
        "plt.plot(x,scipy.stats.binom.pmf(x,40,0.2),drawstyle='steps-mid')\n",
        "plt.plot(x,scipy.stats.binom.pmf(x,40,0.5),drawstyle='steps-mid')\n",
        "plt.plot(x,scipy.stats.binom.pmf(x,40,0.8),drawstyle='steps-mid')\n",
        "plt.plot(x,scipy.stats.binom.pmf(x,40,0.95),drawstyle='steps-mid')"
      ],
      "execution_count": null,
      "outputs": [
        {
          "output_type": "execute_result",
          "data": {
            "text/plain": [
              "[<matplotlib.lines.Line2D at 0x1a24b42470>]"
            ]
          },
          "metadata": {
            "tags": []
          },
          "execution_count": 6
        },
        {
          "output_type": "display_data",
          "data": {
            "image/png": "[encoded data removed]",
            "text/plain": [
              "<Figure size 432x288 with 1 Axes>"
            ]
          },
          "metadata": {
            "tags": [],
            "needs_background": "light"
          }
        }
      ]
    },
    {
      "cell_type": "code",
      "metadata": {
        "id": "60P5imerdKUi"
      },
      "source": [
        ""
      ],
      "execution_count": null,
      "outputs": []
    },
    {
      "cell_type": "markdown",
      "metadata": {
        "id": "q_XB84FUdKUj"
      },
      "source": [
        "## Annex 1 The Poisson pdf\n",
        "\n",
        "The Poisson distribution is popular for modelling the number of times an event occurs in an interval of time or space. For example:\n",
        "\n",
        "- The number of meteorites greater than 1 meter diameter that strike Earth in a year\n",
        "- The number of patients arriving in an emergency room between 10 and 11 pm\n",
        "\n",
        "The probability mass function is $$f(k;\\lambda) = \\frac{\\lambda^k exp(-\\lambda)}{k!}$$\n",
        "For large k the normal distribution is an excellent approximation of the poisson p.d.f. For k below 20 one should be careful using statements based on the normal distribution.\n",
        "\n",
        "The standard deviation of the Poisson pdf is simply $\\sqrt{\\lambda}$. This is very convenient, in particular for higher $\\lambda$ where the normal pdf is a good approximation and the probabilistic interpretation is easy (see below)."
      ]
    },
    {
      "cell_type": "markdown",
      "metadata": {
        "id": "Rfa41OH3dKUk"
      },
      "source": [
        "**Plot the Poisson**"
      ]
    },
    {
      "cell_type": "code",
      "metadata": {
        "id": "dYggRMKydKUl",
        "outputId": "68c90346-11a0-4799-9107-6c79e258ad10"
      },
      "source": [
        "x = np.arange(-1, 40)\n",
        "plt.plot(x,scipy.stats.poisson.pmf(x,2),drawstyle='steps-mid')\n",
        "plt.plot(x,scipy.stats.poisson.pmf(x,15),drawstyle='steps-mid')"
      ],
      "execution_count": null,
      "outputs": [
        {
          "output_type": "execute_result",
          "data": {
            "text/plain": [
              "[<matplotlib.lines.Line2D at 0x1a2491b518>]"
            ]
          },
          "metadata": {
            "tags": []
          },
          "execution_count": 5
        },
        {
          "output_type": "display_data",
          "data": {
            "image/png": "[encoded data removed]",
            "text/plain": [
              "<Figure size 432x288 with 1 Axes>"
            ]
          },
          "metadata": {
            "tags": [],
            "needs_background": "light"
          }
        }
      ]
    },
    {
      "cell_type": "markdown",
      "metadata": {
        "id": "FjE0O77tdKUl"
      },
      "source": [
        "## Annex 2 The Binomial PDF\n",
        "\n",
        "The binomial pdf models the probability of getting k positives when drawing n times, each time asking positive or false. For example,   \n",
        "\n",
        "$$f(k;n,p) = \\binom{n}{k} \\cdot p^kq^{n-k}$$\n",
        "\n",
        "The binomial distribution converges towards the Poisson distribution as the number of trials goes to infinity while the product np remains fixed or at least p tends to zero. Therefore, the Poisson distribution with parameter λ = np can be used as an approximation to B(n, p) of the binomial distribution if n is sufficiently large and p is sufficiently small. According to two rules of thumb, this approximation is good if n ≥ 20 and p ≤ 0.05, or if n ≥ 100 and np ≤ 10.\n",
        "\n",
        "For n>20 and p not too close to 1 or 0, the normal distribution is also here a good approximation. \n",
        "\n",
        "**Plot the binomial pdf for various parameters**"
      ]
    },
    {
      "cell_type": "code",
      "metadata": {
        "id": "gJQ9emitdKUu"
      },
      "source": [
        "m,v,s,k = scipy.stats.norm.stats(10,5,moments='mvsk')\n",
        "print(m,v**0,5,s,k)"
      ],
      "execution_count": null,
      "outputs": []
    },
    {
      "cell_type": "code",
      "metadata": {
        "id": "6iywvMX8dKUu"
      },
      "source": [
        "df_setosa.describe()\n",
        "print('%1.2f %1.2f %1.2f %1.2f' % (df_setosa['slength'].mean(),df_setosa['slength'].std(),df_setosa['slength'].skew(),df_setosa['slength'].kurt()))"
      ],
      "execution_count": null,
      "outputs": []
    },
    {
      "cell_type": "code",
      "metadata": {
        "id": "n5oqfgiIdKUv",
        "outputId": "6ac2abf3-3455-4505-9521-4428f6d5d3cc"
      },
      "source": [
        "x = np.linspace(0,20,20)\n",
        "print(scipy.stats.norm.ppf(0.5,10,3)) # Median = second quantile = x_{50} percentile\n",
        "print(scipy.stats.norm.ppf(0.25,10,3)) # \n",
        "plt.plot(x,scipy.stats.norm.pdf(x,10,3))"
      ],
      "execution_count": null,
      "outputs": [
        {
          "output_type": "stream",
          "text": [
            "10.0\n",
            "7.976530749411754\n"
          ],
          "name": "stdout"
        },
        {
          "output_type": "execute_result",
          "data": {
            "text/plain": [
              "[<matplotlib.lines.Line2D at 0x1a258f6358>]"
            ]
          },
          "metadata": {
            "tags": []
          },
          "execution_count": 32
        },
        {
          "output_type": "display_data",
          "data": {
            "image/png": "[encoded data removed]",
            "text/plain": [
              "<Figure size 432x288 with 1 Axes>"
            ]
          },
          "metadata": {
            "tags": [],
            "needs_background": "light"
          }
        }
      ]
    },
    {
      "cell_type": "code",
      "metadata": {
        "id": "Pgm0yfjtdKUv",
        "outputId": "afed73c6-1d96-4f97-91a4-e864ce454ad9"
      },
      "source": [
        "print('Setosa sepal length mean %1.2f +- %1.2f'  % (df_setosa['sepallength'].mean(), df_setosa['sepallength'].std()))\n",
        "print('Setosa sepal length mean %1.2f +- %1.2f'  % (df_setosa['sepallength'].mean(), df_setosa['sepallength'].sem()))\n",
        "print(df_setosa['sepallength'].std()/df_setosa['sepallength'].size**0.5)"
      ],
      "execution_count": null,
      "outputs": [
        {
          "output_type": "stream",
          "text": [
            "Setosa sepal length mean 5.01 +- 0.35\n",
            "Setosa sepal length mean 5.01 +- 0.05\n",
            "0.049849569625391284\n"
          ],
          "name": "stdout"
        }
      ]
    },
    {
      "cell_type": "code",
      "metadata": {
        "id": "K4dNNmchdKUv"
      },
      "source": [
        ""
      ],
      "execution_count": null,
      "outputs": []
    },
    {
      "cell_type": "markdown",
      "metadata": {
        "id": "u-HZSmaHdKUw"
      },
      "source": [
        "Get some desciptive statistics from a normal (continous) p.d.f. with mean 0 and SD 4."
      ]
    },
    {
      "cell_type": "code",
      "metadata": {
        "id": "1DijuXGhdKUw",
        "outputId": "f0f9a209-33ca-4090-fbce-fb799c1d6138"
      },
      "source": [
        "mean, variance, skewness, kurtosis = scipy.stats.norm.stats(0,4,moments='mvsk')\n",
        "print(mean, variance, skewness, kurtosis)"
      ],
      "execution_count": null,
      "outputs": [
        {
          "output_type": "stream",
          "text": [
            "0.0 16.0 0.0 0.0\n"
          ],
          "name": "stdout"
        }
      ]
    },
    {
      "cell_type": "markdown",
      "metadata": {
        "id": "eG0az23FdKUw"
      },
      "source": [
        "Plot the p.d.f and some moments"
      ]
    },
    {
      "cell_type": "code",
      "metadata": {
        "id": "CBfwJ6j8dKUw",
        "outputId": "9d6df85e-c7d3-41e9-f66e-a0bd2bb5acbb"
      },
      "source": [
        "x = np.linspace(-20,20,400)\n",
        "sigma=variance**0.5\n",
        "plt.plot(x,scipy.stats.norm.pdf(x,mean,sigma))\n",
        "plt.axvline(x=mean, linewidth=2, color = 'k',label=\"Mean\") # Plot the mean as a vertical line\n",
        "plt.axvline(x=mean-sigma, linewidth=2, color = 'r', label=\"Sigma (standard deviation)\")\n",
        "plt.axvline(x=mean+sigma, linewidth=2, color = 'r')\n",
        "plt.legend(loc='upper right')"
      ],
      "execution_count": null,
      "outputs": [
        {
          "output_type": "execute_result",
          "data": {
            "text/plain": [
              "<matplotlib.legend.Legend at 0x1a25c0d5f8>"
            ]
          },
          "metadata": {
            "tags": []
          },
          "execution_count": 50
        },
        {
          "output_type": "display_data",
          "data": {
            "image/png": "[encoded data removed]",
            "text/plain": [
              "<Figure size 432x288 with 1 Axes>"
            ]
          },
          "metadata": {
            "tags": [],
            "needs_background": "light"
          }
        }
      ]
    },
    {
      "cell_type": "code",
      "metadata": {
        "id": "f-aN7MzSdKUy"
      },
      "source": [
        "#0.35249/(50)**0.5\n",
        "#df_setosa.skew()"
      ],
      "execution_count": null,
      "outputs": []
    },
    {
      "cell_type": "markdown",
      "metadata": {
        "id": "fO7gl5iTdKUz"
      },
      "source": [
        "**Histograms with error/uncertainty bars**"
      ]
    },
    {
      "cell_type": "markdown",
      "metadata": {
        "id": "aqCBZfRZdKUz"
      },
      "source": [
        "Here an example how to plot histograms with uncertainty bars"
      ]
    },
    {
      "cell_type": "markdown",
      "metadata": {
        "id": "R36MY9O9dKUz"
      },
      "source": [
        "We see that 3 out of 10 data points are more than one standard deviation off the \"theory\" curve. This is how it should be."
      ]
    },
    {
      "cell_type": "markdown",
      "metadata": {
        "id": "PYzb7ONudKU1"
      },
      "source": [
        "## Annex 3 Probability\n",
        "\n",
        "An abstract definition of probability can be given by considering a set $S$, called the sample space, and possible subsets $A,B,...$ the interpretation of which is left open. The probability $P$ is a real-valued function defined by the following axioms due to Kolmogorov (1933) [9]:\n",
        "\n",
        "- For every subset $A$ in $S$, $P(A) ≥ 0$;\n",
        "- For disjoint subsets (i.e., $A ∩ B = ∅$), $P(A ∪ B) = P(A) + P(B)$; \n",
        "- $P(S)=1$.\n",
        "\n",
        "From this further properties can be derives, e.g.\n",
        "\n",
        "- $P(\\bar{A}) = 1 - P(A)$\n",
        "- $P(A \\cup \\bar{A}) = 1$\n",
        "- $P(\\emptyset) = 0$\n",
        "- if A in B, then $P(A)\\leq P(B)$\n",
        "- $P(A \\cup \\bar{A}) = P(A) + P(B) - P(A\\cap B)$\n",
        "\n",
        "#### Conditional probability\n",
        "In addition, one defines the conditional probability $P(A|B)$ (read as $P$ of $A$ given $B$) as $$P(A|B) = \\frac{P(A ∩ B)}{P(B)}$$\n",
        "\n",
        "As an example, when throwing the dice, consider obtaining more than 3 eyes given only trows with even number of eyes outcomes. We calculate the (conditional) probability:\n",
        "\n",
        "$$P(n>3|n\\; even) = \\frac{P(n>3 \\cap n\\; even)}{P(even)} = \\frac{2/6}{3/6} = \\frac{2}{3}$$\n",
        "\n",
        "#### Independence\n",
        "\n",
        "If A and B are independent, then \n",
        "\n",
        "$$P(A|B) = \\frac{P(A ∩ B)}{P(B)} = \\frac{P(A)P(B)}{P(B)} = P(A)$$\n"
      ]
    },
    {
      "cell_type": "markdown",
      "metadata": {
        "id": "I6nnbYcJdKU1"
      },
      "source": [
        "### Some words on probability and bayesian versus frequentist statistics"
      ]
    },
    {
      "cell_type": "markdown",
      "metadata": {
        "id": "9Du390uOdKU1"
      },
      "source": [
        "Since data taking is data taking of random variables, we need to define and talk about probability. In mathematichs probability is defined in a rather abstract manner (see Annex below). For our purposes we go directly to the interpreation as either **relative frequency** or **subjective probability**. If A is a possible outcome of an experiment repeated n times, then the probability of A is the realtive frequency\n",
        "\n",
        "$$P(A) = \\lim_{n\\rightarrow \\infty} \\frac{times \\; outcome \\;is\\;A}{n}$$\n",
        "\n",
        "The subjective probability is\n",
        "\n",
        "$$ P(A) = degree\\;of\\;belief\\;that \\;A \\; is\\; true$$\n",
        "\n",
        "Both concepts are consistent with the abstract mathematical definition .\n",
        "\n",
        "#### Bayes' theorem\n",
        "\n",
        "From this definition and using the fact that $A ∩ B$ and $B ∩ A$ (intersection) are the same, one obtains\n",
        "Bayes’ theorem\n",
        "\n",
        "$$P (A|B) = \\frac{P(B|A)P(A)}{P(B)}$$\n",
        "\n",
        "first published by the Reverend Thomas Bayes (1702-1761). Statistics based on the relative frequency interpretation of probability is called frequentist statistics, on bayesian theorem bayesian statistics."
      ]
    },
    {
      "cell_type": "markdown",
      "metadata": {
        "id": "qk19qN_xdKU1"
      },
      "source": [
        "### Other probability density functions (5 min)"
      ]
    },
    {
      "cell_type": "markdown",
      "metadata": {
        "id": "A9kQ5fqMdKU1"
      },
      "source": [
        "This is just for your reference, no need to understand all these distributions. A quite good free and comprehensive book is here: http://staff.fysik.su.se/~walck/suf9601.pdf. \n",
        "\n",
        "**Table 1.4.1** Some common probability density functions, with corresponding characteristic functions and means and variances. In the Table, $\\Gamma(k)$ is the gamma function, equal to $(k − 1)!$ when $k$ is an integer; $_1F_1$ is the confluent hypergeometric function of the 1st kind [11].\n",
        "\n",
        "![download.png](attachment:download.png)\n",
        "\n",
        "Distributions are either discrete or continuous. To study the distributions we use the statistical functions of scipy.stats (https://docs.scipy.org/doc/scipy-0.14.0/reference/stats.html). There you also find more distributions than listed here."
      ]
    }
  ]
}